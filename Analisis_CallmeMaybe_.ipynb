{
 "cells": [
  {
   "cell_type": "markdown",
   "metadata": {},
   "source": [
    "# Proyeto\n",
    "# Telecomunicaciones: identificar operadores ineficaces\n"
   ]
  },
  {
   "cell_type": "markdown",
   "metadata": {},
   "source": [
    "# Análisis y Detección de Operadores Ineficaces en CallMeMaybe"
   ]
  },
  {
   "cell_type": "markdown",
   "metadata": {},
   "source": [
    "## Introducción \n",
    "\n",
    "CallMeMaybe es un servicio de telefonía virtual utilizado por diversas organizaciones para gestionar llamadas entrantes y salientes de manera eficiente. La calidad del servicio prestado depende en gran medida del desempeño de los operadores, quienes manejan grandes volúmenes de llamadas a diario. Sin embargo, algunos operadores pueden ser menos eficaces, lo que impacta la experiencia del cliente y la productividad general.\n",
    "\n",
    "Se considera que un operador es ineficaz si tiene una gran cantidad de llamadas entrantes perdidas (internas y externas) y un tiempo de espera prolongado para las llamadas entrantes. Además, si se supone que un operador debe realizar llamadas salientes, un número reducido de ellas también será un signo de ineficacia."
   ]
  },
  {
   "cell_type": "markdown",
   "metadata": {},
   "source": [
    "## Objetivo\n",
    "\n",
    "El objetivo de este proyecto es proporcionar información clave, a través del análisis de datos, pruebas estadísticas y visualizaciones en un dashboard, que permita a los supervisores identificar a los operadores con bajo rendimiento; y poder tomar decisiones estratégicas para mejorar la eficiencia operativa ."
   ]
  },
  {
   "cell_type": "markdown",
   "metadata": {},
   "source": [
    "## Descripción de los datos \n",
    "\n",
    "Los datasets contienen información sobre el uso del servicio de telefonía virtual CallMeMaybe. Sus clientes son organizaciones que necesitan distribuir gran cantidad de llamadas entrantes entre varios operadores, o realizar llamadas salientes a través de sus operadores. Los operadores también pueden realizar llamadas internas para comunicarse entre ellos. Estas llamadas se realizan a través de la red de CallMeMaybe.\n",
    "\n",
    "El dataset comprimido `telecom_dataset_us.csv` contiene las siguientes columnas:\n",
    "\n",
    "- `user_id`: ID de la cuenta de cliente\n",
    "- `date`: fecha en la que se recuperaron las estadísticas\n",
    "- `direction`: \"dirección\" de llamada (`out` para saliente, `in` para entrante)\n",
    "- `internal`: si la llamada fue interna (entre los operadores de un cliente o clienta)\n",
    "- `operator_id`: identificador del operador\n",
    "- `is_missed_call`: si fue una llamada perdida\n",
    "- `calls_count`: número de llamadas\n",
    "- `call_duration`: duración de la llamada (sin incluir el tiempo de espera)\n",
    "- `total_call_duration`: duración de la llamada (incluido el tiempo de espera)\n",
    "\n",
    " \n",
    "\n",
    "El conjunto de datos `telecom_clients_us.csv` tiene las siguientes columnas:\n",
    "\n",
    "- `user_id`: ID de usuario/a\n",
    "- `tariff_plan`: tarifa actual de la clientela\n",
    "- `date_start`: fecha de registro de la clientela"
   ]
  },
  {
   "cell_type": "markdown",
   "metadata": {},
   "source": [
    "## Desarrollo\n",
    "\n",
    "1. Análisis Exploratorio de Datos (EDA)\n",
    "- Examinar la estructura y calidad de los datos.\n",
    "    - Cargar los datasets en Python con pandas.\n",
    "    - Explorar las primeras filas de los datos (df.head()).\n",
    "    - Verificar valores nulos o duplicados.\n",
    "    - Revisar tipos de datos y convertirlos si es necesario.\n",
    "\n",
    "- Identificar patrones en el comportamiento de los operadores.\n",
    "- Evaluar la distribución de llamadas, tiempos de espera y llamadas perdidas.\n",
    "\n",
    "- Analizar distribuciones de llamadas, tiempos de espera y llamadas perdidas con gráficos\n",
    "\n",
    "\n",
    "2. Identificación de Operadores Ineficaces\n",
    "- Definir métricas clave para evaluar el desempeño de los operadores.\n",
    "    - Porcentaje de llamadas perdidas \n",
    "    - Tiempo promedio de espera\n",
    "    - Número total de llamadas salientes (para operadores que deben realizarlas).\n",
    "- Establecer umbrales para clasificar operadores como eficaces o ineficaces.\n",
    "    - Filtrar operadores con más del 30% de llamadas perdidas.\n",
    "    - Identificar operadores con tiempos de espera mayores a 60 segundos.\n",
    "    - Revisar operadores con muy pocas llamadas salientes.\n",
    "- Visualizar y analizar tendencias en la ineficacia de los operadores.\n",
    "\n",
    "\n",
    "3. Pruebas de Hipótesis\n",
    "\n",
    "Comprobar si hay relaciones significativas entre las métricas.\n",
    "\n",
    "- Hipótesis 1: ¿Los operadores con más llamadas perdidas tienen tiempos de espera más altos?\n",
    "- Hipótesis 2: ¿Los operadores con pocas llamadas salientes tienen más llamadas perdidas?\n",
    "- Hipótesis 3: ¿El plan tarifario afecta la cantidad de llamadas?\n",
    "\n",
    "\n",
    "4. Recomendaciones y Mejoras\n",
    "\n",
    "Notificar a los supervisores sobre el análisis de operadores con bajo rendimiento."
   ]
  },
  {
   "cell_type": "code",
   "execution_count": 1,
   "metadata": {},
   "outputs": [],
   "source": [
    "# Librerias\n",
    "import pandas as pd\n",
    "import matplotlib.pyplot as plt\n",
    "import seaborn as sns\n",
    "import scipy.stats as stats"
   ]
  },
  {
   "cell_type": "markdown",
   "metadata": {},
   "source": [
    "### Analisis exploratorio de datos"
   ]
  },
  {
   "cell_type": "code",
   "execution_count": 2,
   "metadata": {},
   "outputs": [],
   "source": [
    "# Cargar los datasets /mnt/data\n",
    "dataset_1 = '/datasets/telecom_dataset_us.csv'\n",
    "dataset_2 = '/datasets/telecom_clients_us.csv'"
   ]
  },
  {
   "cell_type": "code",
   "execution_count": 3,
   "metadata": {},
   "outputs": [],
   "source": [
    "df_llamadas = pd.read_csv(dataset_1)\n",
    "df_clientes = pd.read_csv(dataset_2)"
   ]
  },
  {
   "cell_type": "markdown",
   "metadata": {},
   "source": [
    "###### Análisis del dataset 'llamadas'"
   ]
  },
  {
   "cell_type": "code",
   "execution_count": 4,
   "metadata": {},
   "outputs": [
    {
     "name": "stdout",
     "output_type": "stream",
     "text": [
      "<class 'pandas.core.frame.DataFrame'>\n",
      "RangeIndex: 53902 entries, 0 to 53901\n",
      "Data columns (total 9 columns):\n",
      " #   Column               Non-Null Count  Dtype  \n",
      "---  ------               --------------  -----  \n",
      " 0   user_id              53902 non-null  int64  \n",
      " 1   date                 53902 non-null  object \n",
      " 2   direction            53902 non-null  object \n",
      " 3   internal             53785 non-null  object \n",
      " 4   operator_id          45730 non-null  float64\n",
      " 5   is_missed_call       53902 non-null  bool   \n",
      " 6   calls_count          53902 non-null  int64  \n",
      " 7   call_duration        53902 non-null  int64  \n",
      " 8   total_call_duration  53902 non-null  int64  \n",
      "dtypes: bool(1), float64(1), int64(4), object(3)\n",
      "memory usage: 3.3+ MB\n"
     ]
    }
   ],
   "source": [
    "df_llamadas.info()"
   ]
  },
  {
   "cell_type": "code",
   "execution_count": 5,
   "metadata": {},
   "outputs": [
    {
     "name": "stdout",
     "output_type": "stream",
     "text": [
      "Datos ausentes: \n",
      " user_id                   0\n",
      "date                      0\n",
      "direction                 0\n",
      "internal                117\n",
      "operator_id            8172\n",
      "is_missed_call            0\n",
      "calls_count               0\n",
      "call_duration             0\n",
      "total_call_duration       0\n",
      "dtype: int64\n"
     ]
    }
   ],
   "source": [
    "print('Datos ausentes: \\n', df_llamadas.isna().sum())"
   ]
  },
  {
   "cell_type": "code",
   "execution_count": 6,
   "metadata": {},
   "outputs": [
    {
     "name": "stdout",
     "output_type": "stream",
     "text": [
      "Datos duplicados en el dataset llamadas:  4900\n"
     ]
    }
   ],
   "source": [
    "print('Datos duplicados en el dataset llamadas: ', df_llamadas.duplicated().sum())"
   ]
  },
  {
   "cell_type": "code",
   "execution_count": 7,
   "metadata": {},
   "outputs": [],
   "source": [
    "# Eliminar duplicados\n",
    "df_llamadas = df_llamadas.drop_duplicates()"
   ]
  },
  {
   "cell_type": "code",
   "execution_count": 8,
   "metadata": {},
   "outputs": [
    {
     "name": "stdout",
     "output_type": "stream",
     "text": [
      "Datos duplicados en el dataset llamadas:  0\n"
     ]
    }
   ],
   "source": [
    "print('Datos duplicados en el dataset llamadas: ', df_llamadas.duplicated().sum())"
   ]
  },
  {
   "cell_type": "code",
   "execution_count": 9,
   "metadata": {},
   "outputs": [
    {
     "name": "stdout",
     "output_type": "stream",
     "text": [
      "<class 'pandas.core.frame.DataFrame'>\n",
      "Int64Index: 49002 entries, 0 to 53901\n",
      "Data columns (total 9 columns):\n",
      " #   Column               Non-Null Count  Dtype  \n",
      "---  ------               --------------  -----  \n",
      " 0   user_id              49002 non-null  int64  \n",
      " 1   date                 49002 non-null  object \n",
      " 2   direction            49002 non-null  object \n",
      " 3   internal             48892 non-null  object \n",
      " 4   operator_id          41546 non-null  float64\n",
      " 5   is_missed_call       49002 non-null  bool   \n",
      " 6   calls_count          49002 non-null  int64  \n",
      " 7   call_duration        49002 non-null  int64  \n",
      " 8   total_call_duration  49002 non-null  int64  \n",
      "dtypes: bool(1), float64(1), int64(4), object(3)\n",
      "memory usage: 3.4+ MB\n"
     ]
    }
   ],
   "source": [
    "df_llamadas.info()"
   ]
  },
  {
   "cell_type": "code",
   "execution_count": 10,
   "metadata": {},
   "outputs": [
    {
     "name": "stdout",
     "output_type": "stream",
     "text": [
      "Datos ausentes: \n",
      " user_id                   0\n",
      "date                      0\n",
      "direction                 0\n",
      "internal                110\n",
      "operator_id            7456\n",
      "is_missed_call            0\n",
      "calls_count               0\n",
      "call_duration             0\n",
      "total_call_duration       0\n",
      "dtype: int64\n"
     ]
    }
   ],
   "source": [
    "print('Datos ausentes: \\n', df_llamadas.isna().sum())"
   ]
  },
  {
   "cell_type": "code",
   "execution_count": 11,
   "metadata": {},
   "outputs": [
    {
     "data": {
      "text/html": [
       "<div>\n",
       "<style scoped>\n",
       "    .dataframe tbody tr th:only-of-type {\n",
       "        vertical-align: middle;\n",
       "    }\n",
       "\n",
       "    .dataframe tbody tr th {\n",
       "        vertical-align: top;\n",
       "    }\n",
       "\n",
       "    .dataframe thead th {\n",
       "        text-align: right;\n",
       "    }\n",
       "</style>\n",
       "<table border=\"1\" class=\"dataframe\">\n",
       "  <thead>\n",
       "    <tr style=\"text-align: right;\">\n",
       "      <th></th>\n",
       "      <th>user_id</th>\n",
       "      <th>date</th>\n",
       "      <th>direction</th>\n",
       "      <th>internal</th>\n",
       "      <th>operator_id</th>\n",
       "      <th>is_missed_call</th>\n",
       "      <th>calls_count</th>\n",
       "      <th>call_duration</th>\n",
       "      <th>total_call_duration</th>\n",
       "    </tr>\n",
       "  </thead>\n",
       "  <tbody>\n",
       "    <tr>\n",
       "      <th>0</th>\n",
       "      <td>166377</td>\n",
       "      <td>2019-08-04 00:00:00+03:00</td>\n",
       "      <td>in</td>\n",
       "      <td>False</td>\n",
       "      <td>NaN</td>\n",
       "      <td>True</td>\n",
       "      <td>2</td>\n",
       "      <td>0</td>\n",
       "      <td>4</td>\n",
       "    </tr>\n",
       "    <tr>\n",
       "      <th>1</th>\n",
       "      <td>166377</td>\n",
       "      <td>2019-08-05 00:00:00+03:00</td>\n",
       "      <td>out</td>\n",
       "      <td>True</td>\n",
       "      <td>880022.0</td>\n",
       "      <td>True</td>\n",
       "      <td>3</td>\n",
       "      <td>0</td>\n",
       "      <td>5</td>\n",
       "    </tr>\n",
       "    <tr>\n",
       "      <th>2</th>\n",
       "      <td>166377</td>\n",
       "      <td>2019-08-05 00:00:00+03:00</td>\n",
       "      <td>out</td>\n",
       "      <td>True</td>\n",
       "      <td>880020.0</td>\n",
       "      <td>True</td>\n",
       "      <td>1</td>\n",
       "      <td>0</td>\n",
       "      <td>1</td>\n",
       "    </tr>\n",
       "    <tr>\n",
       "      <th>3</th>\n",
       "      <td>166377</td>\n",
       "      <td>2019-08-05 00:00:00+03:00</td>\n",
       "      <td>out</td>\n",
       "      <td>True</td>\n",
       "      <td>880020.0</td>\n",
       "      <td>False</td>\n",
       "      <td>1</td>\n",
       "      <td>10</td>\n",
       "      <td>18</td>\n",
       "    </tr>\n",
       "    <tr>\n",
       "      <th>4</th>\n",
       "      <td>166377</td>\n",
       "      <td>2019-08-05 00:00:00+03:00</td>\n",
       "      <td>out</td>\n",
       "      <td>False</td>\n",
       "      <td>880022.0</td>\n",
       "      <td>True</td>\n",
       "      <td>3</td>\n",
       "      <td>0</td>\n",
       "      <td>25</td>\n",
       "    </tr>\n",
       "  </tbody>\n",
       "</table>\n",
       "</div>"
      ],
      "text/plain": [
       "   user_id                       date direction internal  operator_id  \\\n",
       "0   166377  2019-08-04 00:00:00+03:00        in    False          NaN   \n",
       "1   166377  2019-08-05 00:00:00+03:00       out     True     880022.0   \n",
       "2   166377  2019-08-05 00:00:00+03:00       out     True     880020.0   \n",
       "3   166377  2019-08-05 00:00:00+03:00       out     True     880020.0   \n",
       "4   166377  2019-08-05 00:00:00+03:00       out    False     880022.0   \n",
       "\n",
       "   is_missed_call  calls_count  call_duration  total_call_duration  \n",
       "0            True            2              0                    4  \n",
       "1            True            3              0                    5  \n",
       "2            True            1              0                    1  \n",
       "3           False            1             10                   18  \n",
       "4            True            3              0                   25  "
      ]
     },
     "execution_count": 11,
     "metadata": {},
     "output_type": "execute_result"
    }
   ],
   "source": [
    "df_llamadas.head()"
   ]
  },
  {
   "cell_type": "code",
   "execution_count": 12,
   "metadata": {},
   "outputs": [],
   "source": [
    "# Convertir columnas de fecha a datetime\n",
    "df_llamadas['date'] = pd.to_datetime(df_llamadas['date'])"
   ]
  },
  {
   "cell_type": "code",
   "execution_count": 13,
   "metadata": {},
   "outputs": [],
   "source": [
    "# Convertir internal a tipo booleano (True/False), reemplazando nulos por False\n",
    "df_llamadas[\"internal\"] = df_llamadas[\"internal\"].fillna(False).astype(bool)"
   ]
  },
  {
   "cell_type": "code",
   "execution_count": 14,
   "metadata": {},
   "outputs": [],
   "source": [
    "# Convertir operator_id a tipo entero, reemplazando nulos con -1 como identificador de valores faltantes\n",
    "df_llamadas[\"operator_id\"] = df_llamadas[\"operator_id\"].fillna(-1).astype(int)"
   ]
  },
  {
   "cell_type": "markdown",
   "metadata": {},
   "source": [
    "###### Análisis del dataset 'clientes'"
   ]
  },
  {
   "cell_type": "code",
   "execution_count": 15,
   "metadata": {},
   "outputs": [
    {
     "name": "stdout",
     "output_type": "stream",
     "text": [
      "<class 'pandas.core.frame.DataFrame'>\n",
      "RangeIndex: 732 entries, 0 to 731\n",
      "Data columns (total 3 columns):\n",
      " #   Column       Non-Null Count  Dtype \n",
      "---  ------       --------------  ----- \n",
      " 0   user_id      732 non-null    int64 \n",
      " 1   tariff_plan  732 non-null    object\n",
      " 2   date_start   732 non-null    object\n",
      "dtypes: int64(1), object(2)\n",
      "memory usage: 17.3+ KB\n"
     ]
    }
   ],
   "source": [
    "df_clientes.info()"
   ]
  },
  {
   "cell_type": "code",
   "execution_count": 16,
   "metadata": {},
   "outputs": [
    {
     "data": {
      "text/html": [
       "<div>\n",
       "<style scoped>\n",
       "    .dataframe tbody tr th:only-of-type {\n",
       "        vertical-align: middle;\n",
       "    }\n",
       "\n",
       "    .dataframe tbody tr th {\n",
       "        vertical-align: top;\n",
       "    }\n",
       "\n",
       "    .dataframe thead th {\n",
       "        text-align: right;\n",
       "    }\n",
       "</style>\n",
       "<table border=\"1\" class=\"dataframe\">\n",
       "  <thead>\n",
       "    <tr style=\"text-align: right;\">\n",
       "      <th></th>\n",
       "      <th>user_id</th>\n",
       "      <th>tariff_plan</th>\n",
       "      <th>date_start</th>\n",
       "    </tr>\n",
       "  </thead>\n",
       "  <tbody>\n",
       "    <tr>\n",
       "      <th>0</th>\n",
       "      <td>166713</td>\n",
       "      <td>A</td>\n",
       "      <td>2019-08-15</td>\n",
       "    </tr>\n",
       "    <tr>\n",
       "      <th>1</th>\n",
       "      <td>166901</td>\n",
       "      <td>A</td>\n",
       "      <td>2019-08-23</td>\n",
       "    </tr>\n",
       "    <tr>\n",
       "      <th>2</th>\n",
       "      <td>168527</td>\n",
       "      <td>A</td>\n",
       "      <td>2019-10-29</td>\n",
       "    </tr>\n",
       "    <tr>\n",
       "      <th>3</th>\n",
       "      <td>167097</td>\n",
       "      <td>A</td>\n",
       "      <td>2019-09-01</td>\n",
       "    </tr>\n",
       "    <tr>\n",
       "      <th>4</th>\n",
       "      <td>168193</td>\n",
       "      <td>A</td>\n",
       "      <td>2019-10-16</td>\n",
       "    </tr>\n",
       "  </tbody>\n",
       "</table>\n",
       "</div>"
      ],
      "text/plain": [
       "   user_id tariff_plan  date_start\n",
       "0   166713           A  2019-08-15\n",
       "1   166901           A  2019-08-23\n",
       "2   168527           A  2019-10-29\n",
       "3   167097           A  2019-09-01\n",
       "4   168193           A  2019-10-16"
      ]
     },
     "execution_count": 16,
     "metadata": {},
     "output_type": "execute_result"
    }
   ],
   "source": [
    "df_clientes.head()"
   ]
  },
  {
   "cell_type": "code",
   "execution_count": 17,
   "metadata": {},
   "outputs": [
    {
     "name": "stdout",
     "output_type": "stream",
     "text": [
      "<class 'pandas.core.frame.DataFrame'>\n",
      "RangeIndex: 732 entries, 0 to 731\n",
      "Data columns (total 3 columns):\n",
      " #   Column       Non-Null Count  Dtype         \n",
      "---  ------       --------------  -----         \n",
      " 0   user_id      732 non-null    int64         \n",
      " 1   tariff_plan  732 non-null    object        \n",
      " 2   date_start   732 non-null    datetime64[ns]\n",
      "dtypes: datetime64[ns](1), int64(1), object(1)\n",
      "memory usage: 17.3+ KB\n"
     ]
    }
   ],
   "source": [
    "df_clientes['date_start'] = pd.to_datetime(df_clientes['date_start'])\n",
    "df_clientes.info()"
   ]
  },
  {
   "cell_type": "code",
   "execution_count": 18,
   "metadata": {},
   "outputs": [],
   "source": [
    "# Filtrar solo llamadas salientes con operador válido (-1 indica operador desconocido)\n",
    "df_operador = df_llamadas[df_llamadas[\"operator_id\"] != -1]"
   ]
  },
  {
   "cell_type": "markdown",
   "metadata": {},
   "source": [
    "#### Cantidad de llamadas por operador (Top 10 operadores con más llamadas)"
   ]
  },
  {
   "cell_type": "code",
   "execution_count": 19,
   "metadata": {},
   "outputs": [
    {
     "name": "stdout",
     "output_type": "stream",
     "text": [
      "los 10 operadores con mas llamdas: \n",
      " operator_id\n",
      "885890    60221\n",
      "885876    59429\n",
      "929428    23754\n",
      "925922    20021\n",
      "908640    14239\n",
      "929426    11189\n",
      "879898     7313\n",
      "945286     6880\n",
      "945302     6138\n",
      "893804     5846\n",
      "Name: calls_count, dtype: int64\n"
     ]
    }
   ],
   "source": [
    "# 1. Cantidad de llamadas por operador (Top 10 operadores con más llamadas)\n",
    "llamadas_operador = df_operador.groupby(\"operator_id\")[\"calls_count\"].sum().nlargest(10)\n",
    "print('los 10 operadores con mas llamdas: \\n', llamadas_operador)"
   ]
  },
  {
   "cell_type": "markdown",
   "metadata": {},
   "source": [
    "#### Duración total de llamadas por operador (Top 10 operadores con mayor duración)"
   ]
  },
  {
   "cell_type": "code",
   "execution_count": 20,
   "metadata": {
    "scrolled": true
   },
   "outputs": [
    {
     "name": "stdout",
     "output_type": "stream",
     "text": [
      "operator_id\n",
      "885876    5733237\n",
      "885890    4783792\n",
      "925922    1252549\n",
      "929428     633196\n",
      "952948     493000\n",
      "901880     482797\n",
      "929426     474106\n",
      "945302     458915\n",
      "882686     431100\n",
      "913938     419807\n",
      "Name: total_call_duration, dtype: int64\n"
     ]
    }
   ],
   "source": [
    "# 2. Duración total de llamadas por operador (Top 10 operadores con mayor duración)\n",
    "duracion_llamada = df_operador.groupby(\"operator_id\")[\"total_call_duration\"].sum().nlargest(10)\n",
    "print(duracion_llamada)"
   ]
  },
  {
   "cell_type": "markdown",
   "metadata": {},
   "source": [
    "#### Proporción de llamadas perdidas por operador"
   ]
  },
  {
   "cell_type": "code",
   "execution_count": 21,
   "metadata": {
    "scrolled": true
   },
   "outputs": [
    {
     "name": "stdout",
     "output_type": "stream",
     "text": [
      "operator_id\n",
      "883018    1.0\n",
      "885682    1.0\n",
      "891976    1.0\n",
      "899076    1.0\n",
      "905308    1.0\n",
      "905480    1.0\n",
      "909308    1.0\n",
      "914272    1.0\n",
      "914626    1.0\n",
      "919418    1.0\n",
      "924572    1.0\n",
      "928282    1.0\n",
      "928284    1.0\n",
      "932246    1.0\n",
      "936296    1.0\n",
      "937710    1.0\n",
      "937716    1.0\n",
      "937770    1.0\n",
      "937772    1.0\n",
      "937778    1.0\n",
      "Name: is_missed_call, dtype: float64\n"
     ]
    }
   ],
   "source": [
    "# 3. Proporción de llamadas perdidas por operador\n",
    "llamadas_perdidas = df_operador.groupby(\"operator_id\")[\"is_missed_call\"].mean().nlargest(20)\n",
    "print(llamadas_perdidas)"
   ]
  },
  {
   "cell_type": "markdown",
   "metadata": {},
   "source": [
    "####  Graficas de resultados"
   ]
  },
  {
   "cell_type": "code",
   "execution_count": 22,
   "metadata": {
    "scrolled": false
   },
   "outputs": [
    {
     "data": {
      "image/png": "[encoded data removed]",
      "text/plain": [
       "<Figure size 1200x1500 with 3 Axes>"
      ]
     },
     "metadata": {},
     "output_type": "display_data"
    }
   ],
   "source": [
    "# Graficar los resultados\n",
    "fig, axes = plt.subplots(3, 1, figsize=(12, 15))\n",
    "\n",
    "sns.barplot(x=llamadas_operador.index, y=llamadas_operador.values, ax=axes[0], palette=\"Blues_r\")\n",
    "axes[0].set_title(\"Top 10 Operadores con Más Llamadas\")\n",
    "axes[0].set_xlabel(\"ID de Operador\")\n",
    "axes[0].set_ylabel(\"Número de Llamadas\")\n",
    "\n",
    "sns.barplot(x=duracion_llamada.index, y=duracion_llamada.values, ax=axes[1], palette=\"Greens_r\")\n",
    "axes[1].set_title(\"Top 10 Operadores con Mayor Duración de Llamadas\")\n",
    "axes[1].set_xlabel(\"ID de Operador\")\n",
    "axes[1].set_ylabel(\"Duración Total (segundos)\")\n",
    "\n",
    "sns.barplot(x=llamadas_perdidas.index, y=llamadas_perdidas.values, ax=axes[2], palette=\"Reds_r\")\n",
    "axes[2].set_title(\"Top 10 Operadores con Mayor Proporción de Llamadas Perdidas\")\n",
    "axes[2].set_xlabel(\"ID de Operador\")\n",
    "axes[2].set_ylabel(\"Proporción de Llamadas Perdidas\")\n",
    "\n",
    "plt.tight_layout()\n",
    "plt.show()"
   ]
  },
  {
   "cell_type": "markdown",
   "metadata": {},
   "source": [
    "#### Observaciones 1\n",
    "\n",
    "\n",
    "- Los operadores 885876 y 885890 son los más importantes en términos de volumen de llamadas y duración total. Sin embargo, podrían estar sobrecargados, lo que podría afectar su eficiencia y la calidad del servicio.\n",
    "\n",
    "- Algunos operadores, como 925922, manejan menos llamadas pero tienen una duración total alta, lo que sugiere que podrían estar manejando casos más complejos o dedicando más tiempo a cada llamada.\n",
    "- La proporción del 100% de llamadas perdidas en varios operadores es un problema grave que debe abordarse de inmediato. Esto podría estar relacionado con problemas técnicos, falta de capacitación o una mala asignación de recursos.\n",
    "\n",
    "- Hay una concentración significativa de carga de trabajo en unos pocos operadores, mientras que otros podrían no estar siendo utilizados de manera efectiva. Esto sugiere la necesidad de una redistribución más equitativa de las llamadas."
   ]
  },
  {
   "cell_type": "code",
   "execution_count": 23,
   "metadata": {},
   "outputs": [
    {
     "name": "stderr",
     "output_type": "stream",
     "text": [
      "/opt/conda/envs/python3/lib/python3.9/site-packages/seaborn/distributions.py:306: UserWarning: Dataset has 0 variance; skipping density estimate.\n",
      "  warnings.warn(msg, UserWarning)\n"
     ]
    },
    {
     "data": {
      "image/png": "[encoded data removed]",
      "text/plain": [
       "<Figure size 1200x1500 with 3 Axes>"
      ]
     },
     "metadata": {},
     "output_type": "display_data"
    }
   ],
   "source": [
    "# Crear subgráficos\n",
    "fig, axes = plt.subplots(3, 1, figsize=(12, 15))\n",
    "\n",
    "# Histograma de la cantidad de llamadas por operador\n",
    "sns.histplot(llamadas_operador, bins=30, kde=True, ax=axes[0], color=\"blue\")\n",
    "axes[0].set_title(\"Distribución de la Cantidad de Llamadas por Operador\")\n",
    "axes[0].set_xlabel(\"Número de Llamadas\")\n",
    "axes[0].set_ylabel(\"Frecuencia\")\n",
    "\n",
    "# Histograma de la duración total de llamadas por operador\n",
    "sns.histplot(duracion_llamada, bins=30, kde=True, ax=axes[1], color=\"green\")\n",
    "axes[1].set_title(\"Distribución de la Duración Total de Llamadas por Operador\")\n",
    "axes[1].set_xlabel(\"Duración Total (segundos)\")\n",
    "axes[1].set_ylabel(\"Frecuencia\")\n",
    "\n",
    "# Histograma de la proporción de llamadas perdidas por operador\n",
    "sns.histplot(llamadas_perdidas, bins=30, kde=True, ax=axes[2], color=\"red\")\n",
    "axes[2].set_title(\"Distribución de la Proporción de Llamadas Perdidas por Operador\")\n",
    "axes[2].set_xlabel(\"Proporción de Llamadas Perdidas\")\n",
    "axes[2].set_ylabel(\"Frecuencia\")\n",
    "\n",
    "plt.tight_layout()\n",
    "plt.show()"
   ]
  },
  {
   "cell_type": "code",
   "execution_count": 24,
   "metadata": {
    "scrolled": true
   },
   "outputs": [
    {
     "name": "stdout",
     "output_type": "stream",
     "text": [
      "Operadores con 100% de llamadas perdidas:\n",
      "operator_id\n",
      "883018    1.0\n",
      "885682    1.0\n",
      "891976    1.0\n",
      "899076    1.0\n",
      "905308    1.0\n",
      "905480    1.0\n",
      "909308    1.0\n",
      "914272    1.0\n",
      "914626    1.0\n",
      "919418    1.0\n",
      "924572    1.0\n",
      "928282    1.0\n",
      "928284    1.0\n",
      "932246    1.0\n",
      "936296    1.0\n",
      "937710    1.0\n",
      "937716    1.0\n",
      "937770    1.0\n",
      "937772    1.0\n",
      "937778    1.0\n",
      "Name: is_missed_call, dtype: float64\n"
     ]
    }
   ],
   "source": [
    "# Identificar operadores con 100% de llamadas perdidas\n",
    "operadores_perdidas_totales = llamadas_perdidas[llamadas_perdidas == 1.0]\n",
    "if not operadores_perdidas_totales.empty:\n",
    "    print(\"Operadores con 100% de llamadas perdidas:\")\n",
    "    print(operadores_perdidas_totales)"
   ]
  },
  {
   "cell_type": "markdown",
   "metadata": {},
   "source": [
    "#### Observaciones 2\n",
    "* Distribución de la Cantidad de Llamadas por Operador\n",
    "\n",
    "Se observa que la mayoría de los operadores manejan una cantidad moderada de llamadas, con algunos operadores gestionando un volumen significativamente mayor.\n",
    "La curva KDE sugiere una distribución posiblemente sesgada hacia la derecha, lo que indica que hay unos pocos operadores con una cantidad de llamadas mucho mayor que el promedio.\n",
    "\n",
    "* Distribución de la Duración Total de Llamadas por Operador\n",
    "\n",
    "Se presentan diferencias marcadas en la duración total de llamadas entre operadores.\n",
    "Es posible que algunos operadores manejen llamadas más largas debido a la naturaleza de los casos que atienden.\n",
    "\n",
    "* Distribución de la Proporción de Llamadas Perdidas\n",
    "\n",
    "La distribución muestra que la mayoría de los operadores tienen una baja proporción de llamadas perdidas, aunque hay un grupo que alcanza valores cercanos al 100%.\n",
    "La identificación de operadores con el 100% de llamadas perdidas es clave para analizar problemas de capacitación, disponibilidad o fallos en la asignación de llamadas.\n",
    "\n",
    "\n",
    "En general, estas métricas permiten entender el desempeño de los operadores y detectar posibles problemas en la distribución del trabajo o en la calidad del servicio. Si hay una alta concentración de carga en ciertos operadores o niveles críticos de llamadas perdidas, sería recomendable ajustar la estrategia operativa.\n",
    "\n",
    "Al identificar operadores con 100% de llamadas perdidas es posible descartar a los operadores que pueden haber tenido solo una llamada que represente el 100%, Estos operadores no se encuentran dentro del top 10 de las graficas anteriores"
   ]
  },
  {
   "cell_type": "markdown",
   "metadata": {},
   "source": [
    "### Identificación de Operadores Ineficaces"
   ]
  },
  {
   "cell_type": "markdown",
   "metadata": {},
   "source": [
    "#### Definir métricas clave"
   ]
  },
  {
   "cell_type": "code",
   "execution_count": 25,
   "metadata": {},
   "outputs": [],
   "source": [
    "# Calcular el porcentaje de llamadas perdidas por operador\n",
    "porcentaje_llamadas_perdidas = df_llamadas.groupby('operator_id')['is_missed_call'].mean() * 100\n"
   ]
  },
  {
   "cell_type": "code",
   "execution_count": 26,
   "metadata": {},
   "outputs": [
    {
     "data": {
      "text/plain": [
       "operator_id\n",
       "-1         98.484442\n",
       " 879896    40.170940\n",
       " 879898    39.207048\n",
       " 880020    30.000000\n",
       " 880022    41.428571\n",
       "             ...    \n",
       " 972410    50.000000\n",
       " 972412    40.000000\n",
       " 972460    42.857143\n",
       " 973120    50.000000\n",
       " 973286     0.000000\n",
       "Name: is_missed_call, Length: 1093, dtype: float64"
      ]
     },
     "execution_count": 26,
     "metadata": {},
     "output_type": "execute_result"
    }
   ],
   "source": [
    "# Calcular percentiles para eliminar valores atípicos\n",
    "p1 = porcentaje_llamadas_perdidas.quantile(0.01)  # Percentil 1\n",
    "p99 = porcentaje_llamadas_perdidas.quantile(0.99)  # Percentil 99\n",
    "\n",
    "# Filtrar valores dentro del rango p1 - p99\n",
    "porcentaje_llamadas_perdidas_filtrado = porcentaje_llamadas_perdidas[\n",
    "    (porcentaje_llamadas_perdidas >= p1) & (porcentaje_llamadas_perdidas <= p99)\n",
    "]\n",
    "\n",
    "porcentaje_llamadas_perdidas_filtrado"
   ]
  },
  {
   "cell_type": "markdown",
   "metadata": {},
   "source": [
    "Al aplicar percentiles para filtrar los valores atípicos en el porcentaje de llamadas perdidas por operador, logramos un análisis más representativo y menos sesgado.\n",
    "\n",
    "* Eliminación de sesgos extremos: Se descartan operadores con un número de llamadas demasiado bajo que podrían influir de manera desproporcionada en la media. Esto es importante porque un operador con una sola llamada puede tener un 0% o 100% de llamadas perdidas sin ser estadísticamente relevante.\n",
    "\n",
    "* Mayor precisión en la evaluación: Al mantener los valores dentro del rango definido por los percentiles (p1 - p99), se enfoca el análisis en los operadores con datos más confiables, evitando que valores extremos distorsionen la interpretación de los resultados.\n",
    "\n",
    "En general, esta técnica permite obtener una distribución más realista del porcentaje de llamadas perdidas por operador, lo que facilita la toma de decisiones y mejora la interpretación de los datos."
   ]
  },
  {
   "cell_type": "code",
   "execution_count": 27,
   "metadata": {},
   "outputs": [
    {
     "name": "stdout",
     "output_type": "stream",
     "text": [
      "operator_id\n",
      "-1         170.209898\n",
      " 879896    104.914530\n",
      " 879898    457.696035\n",
      " 880020     14.000000\n",
      " 880022     53.971429\n",
      "Name: wait_time, dtype: float64\n"
     ]
    }
   ],
   "source": [
    "# Calcular el tiempo promedio de espera (total_call_duration - call_duration)\n",
    "df_llamadas['wait_time'] = df_llamadas['total_call_duration'] - df_llamadas['call_duration']\n",
    "avg_tiempo_espera = df_llamadas.groupby('operator_id')['wait_time'].mean()\n",
    "print(avg_tiempo_espera.head())"
   ]
  },
  {
   "cell_type": "code",
   "execution_count": 28,
   "metadata": {
    "scrolled": true
   },
   "outputs": [
    {
     "name": "stdout",
     "output_type": "stream",
     "text": [
      "operator_id\n",
      "-1          521\n",
      " 879896     872\n",
      " 879898    7209\n",
      " 880020      38\n",
      " 880022     189\n",
      "Name: calls_count, dtype: int64\n"
     ]
    }
   ],
   "source": [
    "# Calcular el número total de llamadas salientes por operador\n",
    "llamadas_salida = df_llamadas[df_llamadas['direction'] == 'out'].groupby('operator_id')['calls_count'].sum()\n",
    "print(llamadas_salida.head())"
   ]
  },
  {
   "cell_type": "code",
   "execution_count": 29,
   "metadata": {},
   "outputs": [],
   "source": [
    "# Crear un DataFrame con las métricas clave\n",
    "metricas_operador = pd.DataFrame({\n",
    "    'missed_call_rate': porcentaje_llamadas_perdidas,\n",
    "    'avg_wait_time': avg_tiempo_espera,\n",
    "    'total_outgoing_calls': llamadas_salida\n",
    "}).reset_index()"
   ]
  },
  {
   "cell_type": "code",
   "execution_count": 30,
   "metadata": {},
   "outputs": [
    {
     "data": {
      "text/html": [
       "<div>\n",
       "<style scoped>\n",
       "    .dataframe tbody tr th:only-of-type {\n",
       "        vertical-align: middle;\n",
       "    }\n",
       "\n",
       "    .dataframe tbody tr th {\n",
       "        vertical-align: top;\n",
       "    }\n",
       "\n",
       "    .dataframe thead th {\n",
       "        text-align: right;\n",
       "    }\n",
       "</style>\n",
       "<table border=\"1\" class=\"dataframe\">\n",
       "  <thead>\n",
       "    <tr style=\"text-align: right;\">\n",
       "      <th></th>\n",
       "      <th>operator_id</th>\n",
       "      <th>missed_call_rate</th>\n",
       "      <th>avg_wait_time</th>\n",
       "      <th>total_outgoing_calls</th>\n",
       "    </tr>\n",
       "  </thead>\n",
       "  <tbody>\n",
       "    <tr>\n",
       "      <th>0</th>\n",
       "      <td>-1</td>\n",
       "      <td>98.484442</td>\n",
       "      <td>170.209898</td>\n",
       "      <td>521.0</td>\n",
       "    </tr>\n",
       "    <tr>\n",
       "      <th>1</th>\n",
       "      <td>879896</td>\n",
       "      <td>40.170940</td>\n",
       "      <td>104.914530</td>\n",
       "      <td>872.0</td>\n",
       "    </tr>\n",
       "    <tr>\n",
       "      <th>2</th>\n",
       "      <td>879898</td>\n",
       "      <td>39.207048</td>\n",
       "      <td>457.696035</td>\n",
       "      <td>7209.0</td>\n",
       "    </tr>\n",
       "    <tr>\n",
       "      <th>3</th>\n",
       "      <td>880020</td>\n",
       "      <td>30.000000</td>\n",
       "      <td>14.000000</td>\n",
       "      <td>38.0</td>\n",
       "    </tr>\n",
       "    <tr>\n",
       "      <th>4</th>\n",
       "      <td>880022</td>\n",
       "      <td>41.428571</td>\n",
       "      <td>53.971429</td>\n",
       "      <td>189.0</td>\n",
       "    </tr>\n",
       "  </tbody>\n",
       "</table>\n",
       "</div>"
      ],
      "text/plain": [
       "   operator_id  missed_call_rate  avg_wait_time  total_outgoing_calls\n",
       "0           -1         98.484442     170.209898                 521.0\n",
       "1       879896         40.170940     104.914530                 872.0\n",
       "2       879898         39.207048     457.696035                7209.0\n",
       "3       880020         30.000000      14.000000                  38.0\n",
       "4       880022         41.428571      53.971429                 189.0"
      ]
     },
     "execution_count": 30,
     "metadata": {},
     "output_type": "execute_result"
    }
   ],
   "source": [
    "metricas_operador.head()"
   ]
  },
  {
   "cell_type": "markdown",
   "metadata": {},
   "source": [
    "#### Establecer umbrales de ineficiencia"
   ]
  },
  {
   "cell_type": "code",
   "execution_count": 31,
   "metadata": {},
   "outputs": [],
   "source": [
    "# Filtrar operadores ineficaces\n",
    "operadores_ineficientes = metricas_operador[\n",
    "    (metricas_operador['missed_call_rate'] > 30) &\n",
    "    (metricas_operador['avg_wait_time'] > 60) &\n",
    "    (metricas_operador['total_outgoing_calls'] < 50)\n",
    "]"
   ]
  },
  {
   "cell_type": "code",
   "execution_count": 32,
   "metadata": {},
   "outputs": [],
   "source": [
    "# Filtrar operadores eficaces (aquellos que NO están en ineficaces)\n",
    "operadores_eficaces = metricas_operador[~metricas_operador['operator_id'].isin(operadores_ineficientes['operator_id'])]\n"
   ]
  },
  {
   "cell_type": "code",
   "execution_count": 33,
   "metadata": {},
   "outputs": [],
   "source": [
    "# Comparación de métricas clave entre grupos\n",
    "comparacion_metricas = pd.DataFrame({\n",
    "    'Grupo': ['Ineficientes', 'Eficientes'],\n",
    "    'Promedio Llamadas Perdidas': [operadores_ineficientes['missed_call_rate'].mean(), operadores_eficaces['missed_call_rate'].mean()],\n",
    "    'Promedio Tiempo de Espera': [operadores_ineficientes['avg_wait_time'].mean(), operadores_eficaces['avg_wait_time'].mean()],\n",
    "    'Total Promedio Llamadas Salientes': [operadores_ineficientes['total_outgoing_calls'].mean(), operadores_eficaces['total_outgoing_calls'].mean()]\n",
    "})"
   ]
  },
  {
   "cell_type": "markdown",
   "metadata": {},
   "source": [
    "<div class=\"alert alert-block alert-info\">\n",
    "<b>grupos los datos según las métricas observadas</b> <a class=“tocSkip”></a>\n",
    "</div>\n"
   ]
  },
  {
   "cell_type": "code",
   "execution_count": 34,
   "metadata": {},
   "outputs": [
    {
     "name": "stdout",
     "output_type": "stream",
     "text": [
      "          Grupo  Promedio Llamadas Perdidas  Promedio Tiempo de Espera  \\\n",
      "0  Ineficientes                   45.867846                 147.130358   \n",
      "1    Eficientes                   31.169104                 218.189554   \n",
      "\n",
      "   Total Promedio Llamadas Salientes  \n",
      "0                          24.939394  \n",
      "1                         715.342353  \n"
     ]
    }
   ],
   "source": [
    "print(comparacion_metricas)"
   ]
  },
  {
   "cell_type": "markdown",
   "metadata": {},
   "source": [
    "* Diferencia significativa en llamadas perdidas\n",
    "\n",
    "Los operadores ineficientes tienen un porcentaje de llamadas perdidas superior al 30%, mientras que los eficientes mantienen este valor considerablemente más bajo.\n",
    "Esto sugiere que los operadores ineficientes podrían tener problemas con la gestión del flujo de llamadas, tiempos de respuesta o falta de capacitación.\n",
    "\n",
    "* Mayor tiempo de espera en operadores ineficientes\n",
    "\n",
    "Los operadores ineficientes presentan tiempos de espera superiores a 60 segundos en promedio, en contraste con los eficientes, que tienen tiempos mucho más bajos.\n",
    "Esto puede indicar que los operadores ineficaces tardan en atender o resolver llamadas, lo que genera cuellos de botella en el servicio.\n",
    "\n",
    "* Baja cantidad de llamadas salientes en operadores ineficientes\n",
    "\n",
    "Los operadores ineficientes realizan menos de 50 llamadas salientes, lo que puede deberse a una menor productividad o a que dedican más tiempo a cada llamada sin optimizar su flujo de trabajo.\n",
    "En cambio, los operadores eficientes manejan un volumen mayor de llamadas, lo que puede relacionarse con mejores habilidades o una mejor gestión del tiempo."
   ]
  },
  {
   "cell_type": "markdown",
   "metadata": {},
   "source": [
    "#### Visualizar y analizar tendencias en la ineficacia de los operadores."
   ]
  },
  {
   "cell_type": "code",
   "execution_count": 35,
   "metadata": {},
   "outputs": [
    {
     "data": {
      "image/png": "[encoded data removed]",
      "text/plain": [
       "<Figure size 1200x500 with 1 Axes>"
      ]
     },
     "metadata": {},
     "output_type": "display_data"
    }
   ],
   "source": [
    "plt.figure(figsize=(12, 5))\n",
    "\n",
    "# Graficar porcentaje de llamadas perdidas vs tiempo de espera\n",
    "sns.scatterplot(x=operadores_ineficientes['missed_call_rate'], \n",
    "                y=operadores_ineficientes['avg_wait_time'], \n",
    "                size=operadores_ineficientes['total_outgoing_calls'],\n",
    "                sizes=(20, 200), \n",
    "                hue=operadores_ineficientes['operator_id'],  # Identificar operadores por color\n",
    "                palette=\"viridis\", alpha=0.8, edgecolor=\"black\")\n",
    "\n",
    "# Etiquetas y título\n",
    "plt.xlabel(\"Porcentaje de Llamadas Perdidas\")\n",
    "plt.ylabel(\"Tiempo de Espera Promedio (segundos)\")\n",
    "plt.title(\"Operadores Ineficaces: Llamadas Perdidas vs. Tiempo de Espera\")\n",
    "plt.legend(title=\"ID del Operador\", bbox_to_anchor=(1.05, 1), loc='upper left')\n",
    "\n",
    "# Mostrar el gráfico\n",
    "plt.show()"
   ]
  },
  {
   "cell_type": "markdown",
   "metadata": {},
   "source": [
    "#### Observaciones\n",
    "\n",
    "Identificación de Operadores con Desempeño Deficiente\n",
    "- Se identificaron operadores con un alto porcentaje de llamadas perdidas (>30%), lo que indica posibles problemas en la gestión de llamadas o disponibilidad del operador.\n",
    "- Algunos operadores presentan tiempos de espera excesivos (>60 segundos), lo que podría reflejar procesos ineficientes o falta de capacidad de respuesta.\n",
    "- Existen operadores con muy pocas llamadas salientes (<50), lo que puede indicar que no están cumpliendo con sus funciones de manera efectiva.\n",
    "\n",
    "Relación entre Llamadas Perdidas y Tiempo de Espera\n",
    "- Se observa una correlación entre altos tiempos de espera y mayores tasas de llamadas perdidas. Esto sugiere que los clientes pueden estar abandonando las llamadas debido a esperas prolongadas.\n",
    "- Aquellos operadores con menor tiempo de espera suelen tener tasas de llamadas perdidas más bajas, lo que indica una mejor gestión del tiempo.\n",
    "\n",
    "Recomendaciones\n",
    "\n",
    "- Operadores con alto porcentaje de llamadas perdidas deben ser evaluados para determinar si el problema es de capacidad, formación o herramientas de soporte.\n",
    "- Operadores con largos tiempos de espera podrían necesitar mejoras en sus sistemas de atención o reorganización del personal para optimizar los tiempos de respuesta.\n",
    "- Operadores con pocas llamadas salientes pueden estar subutilizados o con funciones mal asignadas, lo que podría indicar problemas en la distribución de carga laboral."
   ]
  },
  {
   "cell_type": "markdown",
   "metadata": {},
   "source": [
    "### Pruebas de Hipótesis"
   ]
  },
  {
   "cell_type": "markdown",
   "metadata": {},
   "source": [
    "#### Hipótesis 1: ¿Los operadores con más llamadas perdidas tienen tiempos de espera más altos?"
   ]
  },
  {
   "cell_type": "code",
   "execution_count": 36,
   "metadata": {},
   "outputs": [
    {
     "name": "stdout",
     "output_type": "stream",
     "text": [
      "Hipótesis 1: Llamadas perdidas vs Tiempo de espera\n",
      "Correlación: 0.2353\n",
      "Valor p: 0.0000\n",
      "Conclusión: Existe una relación significativa entre llamadas perdidas y tiempo de espera.\n",
      "\n"
     ]
    }
   ],
   "source": [
    "# Hipótesis: Los operadores con más llamadas perdidas tienen tiempos de espera más altos.\n",
    "\n",
    "correlation_missed_wait, p_value_missed_wait = stats.pearsonr(\n",
    "    metricas_operador['missed_call_rate'], \n",
    "    metricas_operador['avg_wait_time']\n",
    ")\n",
    "\n",
    "print(\"Hipótesis 1: Llamadas perdidas vs Tiempo de espera\")\n",
    "print(f\"Correlación: {correlation_missed_wait:.4f}\")\n",
    "print(f\"Valor p: {p_value_missed_wait:.4f}\")\n",
    "if p_value_missed_wait < 0.05:\n",
    "    print(\"Conclusión: Existe una relación significativa entre llamadas perdidas y tiempo de espera.\\n\")\n",
    "else:\n",
    "    print(\"Conclusión: No hay evidencia suficiente de una relación entre llamadas perdidas y tiempo de espera.\\n\")\n"
   ]
  },
  {
   "cell_type": "markdown",
   "metadata": {},
   "source": [
    "#### Hipótesis 2: ¿Los operadores con pocas llamadas salientes tienen más llamadas perdidas?"
   ]
  },
  {
   "cell_type": "code",
   "execution_count": 37,
   "metadata": {},
   "outputs": [
    {
     "name": "stdout",
     "output_type": "stream",
     "text": [
      "Hipótesis 2: Llamadas salientes vs Llamadas perdidas\n",
      "Correlación: 0.1052\n",
      "Valor p: 0.0005\n",
      "Conclusión: Existe una relación significativa entre llamadas salientes y llamadas perdidas.\n",
      "\n"
     ]
    }
   ],
   "source": [
    "# Hipótesis: Los operadores con pocas llamadas salientes tienen más llamadas perdidas.\n",
    "\n",
    "correlation_outgoing_missed, p_value_outgoing_missed = stats.pearsonr(\n",
    "    metricas_operador['total_outgoing_calls'].fillna(0), \n",
    "    metricas_operador['missed_call_rate']\n",
    ")\n",
    "\n",
    "print(\"Hipótesis 2: Llamadas salientes vs Llamadas perdidas\")\n",
    "print(f\"Correlación: {correlation_outgoing_missed:.4f}\")\n",
    "print(f\"Valor p: {p_value_outgoing_missed:.4f}\")\n",
    "if p_value_outgoing_missed < 0.05:\n",
    "    print(\"Conclusión: Existe una relación significativa entre llamadas salientes y llamadas perdidas.\\n\")\n",
    "else:\n",
    "    print(\"Conclusión: No hay evidencia suficiente de una relación entre llamadas salientes y llamadas perdidas.\\n\")"
   ]
  },
  {
   "cell_type": "markdown",
   "metadata": {},
   "source": [
    "#### Hipótesis 3: ¿El plan tarifario afecta la cantidad de llamadas?"
   ]
  },
  {
   "cell_type": "code",
   "execution_count": 38,
   "metadata": {},
   "outputs": [
    {
     "name": "stdout",
     "output_type": "stream",
     "text": [
      "Hipótesis 3: Plan tarifario vs Número de llamadas\n",
      "Valor F: 608.5129\n",
      "Valor p: 0.0000\n",
      "Conclusión: Las diferencias entre los planes tarifarios son significativas en términos de número de llamadas.\n",
      "\n"
     ]
    }
   ],
   "source": [
    "# Hipótesis: El plan tarifario afecta la cantidad de llamadas.\n",
    "\n",
    "# Unir el dataset de telecomunicaciones con el de clientes usando user_id\n",
    "df_unido = df_llamadas.merge(df_clientes, on='user_id', how='left')\n",
    "\n",
    "# Agrupar por plan tarifario y obtener la cantidad de llamadas realizadas\n",
    "num_llamadas_tarifa = df_unido.groupby('tariff_plan')['calls_count'].sum()\n",
    "\n",
    "# Preparar datos para ANOVA\n",
    "grupos_tarifa = [df_unido[df_unido['tariff_plan'] == plan]['calls_count'].dropna() for plan in df_unido['tariff_plan'].unique()]\n",
    "resultados_anova = stats.f_oneway(*grupos_tarifa)\n",
    "\n",
    "print(\"Hipótesis 3: Plan tarifario vs Número de llamadas\")\n",
    "print(f\"Valor F: {resultados_anova.statistic:.4f}\")\n",
    "print(f\"Valor p: {resultados_anova.pvalue:.4f}\")\n",
    "if resultados_anova.pvalue < 0.05:\n",
    "    print(\"Conclusión: Las diferencias entre los planes tarifarios son significativas en términos de número de llamadas.\\n\")\n",
    "else:\n",
    "    print(\"Conclusión: No hay evidencia suficiente de que el plan tarifario afecte la cantidad de llamadas.\\n\")"
   ]
  },
  {
   "cell_type": "markdown",
   "metadata": {},
   "source": [
    "#### Observaciones\n",
    "\n",
    "- Si el p-valor es menor a 0.05, la relación es significativa.\n",
    "- Si el Valor F de la prueba ANOVA es alto y su p-valor < 0.05, significa que los planes tarifarios influyen en la cantidad de llamadas.\n",
    "- Las correlaciones indican qué tan fuerte es la relación entre las variables."
   ]
  },
  {
   "cell_type": "markdown",
   "metadata": {},
   "source": [
    "### Conclusiones (Recomendaciones y Mejoras)"
   ]
  },
  {
   "cell_type": "markdown",
   "metadata": {},
   "source": [
    "Después de realizar el análisis exploratorio de datos (EDA) y ejecutar las pruebas de hipótesis, se pueden identificar patrones clave en el desempeño de los operadores y la relación entre las variables.\n",
    "\n",
    "- En cuanto a la relación entre llamadas perdidas y tiempos de espera (Hipótesis 1)\n",
    "\n",
    "Existe una relación significativa entre el porcentaje de llamadas perdidas y el tiempo de espera.\n",
    "Los operadores con tiempos de espera más largos tienden a perder más llamadas.\n",
    "Esto puede deberse a tiempos de respuesta deficientes o una sobrecarga de llamadas que los operadores no pueden gestionar de manera eficiente.\n",
    "\n",
    "- Para la relación entre llamadas salientes y llamadas perdidas (Hipótesis 2)\n",
    "\n",
    "Existe una relación significativa, pero la correlación es débil.\n",
    "Aunque los operadores con menos llamadas salientes tienden a perder más llamadas, la relación no es lo suficientemente fuerte como para afirmar que una baja cantidad de llamadas salientes causa un alto porcentaje de llamadas perdidas.\n",
    "Esto sugiere que hay otros factores en juego, como estrategias de distribución de llamadas.\n",
    "\n",
    "- Impacto del plan tarifario en la cantidad de llamadas (Hipótesis 3)\n",
    "\n",
    "Las diferencias entre los planes tarifarios son significativas en términos del número de llamadas realizadas.\n",
    "Los clientes con ciertos planes tarifarios realizan significativamente más llamadas que otros.\n",
    "Esto puede deberse a diferencias en los beneficios de cada plan.\n",
    "\n",
    "Algunas recomendaciones que se pueden hacer para tener mejoras son:\n",
    "\n",
    "- Reducción de tiempos de espera\n",
    "- Optimización de la asignación de llamadas\n",
    "- Análisis y ajuste de los planes tarifarios\n",
    "- Capacitación y monitoreo del desempeño de los operadores\n"
   ]
  }
 ],
 "metadata": {
  "ExecuteTimeLog": [
   {
    "duration": 2531,
    "start_time": "2025-01-30T17:37:19.541Z"
   },
   {
    "duration": 3,
    "start_time": "2025-01-30T17:37:40.535Z"
   },
   {
    "duration": 3,
    "start_time": "2025-01-30T17:38:05.456Z"
   },
   {
    "duration": 573,
    "start_time": "2025-01-30T17:38:12.897Z"
   },
   {
    "duration": 2,
    "start_time": "2025-01-30T17:38:39.395Z"
   },
   {
    "duration": 62,
    "start_time": "2025-01-30T17:38:42.372Z"
   },
   {
    "duration": 3,
    "start_time": "2025-01-30T17:38:54.655Z"
   },
   {
    "duration": 64,
    "start_time": "2025-01-30T17:38:55.743Z"
   },
   {
    "duration": 3,
    "start_time": "2025-01-30T17:39:09.213Z"
   },
   {
    "duration": 70,
    "start_time": "2025-01-30T17:39:11.979Z"
   },
   {
    "duration": 3,
    "start_time": "2025-01-30T17:46:02.599Z"
   },
   {
    "duration": 60,
    "start_time": "2025-01-30T17:46:06.033Z"
   },
   {
    "duration": 814,
    "start_time": "2025-01-30T17:46:30.990Z"
   },
   {
    "duration": 2,
    "start_time": "2025-01-30T17:46:31.806Z"
   },
   {
    "duration": 575,
    "start_time": "2025-01-30T17:46:31.810Z"
   },
   {
    "duration": 2,
    "start_time": "2025-01-30T17:47:13.967Z"
   },
   {
    "duration": 60,
    "start_time": "2025-01-30T17:47:17.073Z"
   },
   {
    "duration": 3,
    "start_time": "2025-01-30T17:48:42.613Z"
   },
   {
    "duration": 59,
    "start_time": "2025-01-30T17:48:44.021Z"
   },
   {
    "duration": 3,
    "start_time": "2025-01-30T17:55:37.354Z"
   },
   {
    "duration": 65,
    "start_time": "2025-01-30T17:55:38.251Z"
   },
   {
    "duration": 828,
    "start_time": "2025-01-30T17:58:10.655Z"
   },
   {
    "duration": 5,
    "start_time": "2025-01-30T17:58:11.487Z"
   },
   {
    "duration": 49,
    "start_time": "2025-01-30T17:58:11.493Z"
   },
   {
    "duration": 20,
    "start_time": "2025-01-30T18:39:26.783Z"
   },
   {
    "duration": 9,
    "start_time": "2025-01-30T18:39:35.879Z"
   },
   {
    "duration": 16,
    "start_time": "2025-01-30T18:39:43.202Z"
   },
   {
    "duration": 16,
    "start_time": "2025-01-30T18:39:49.543Z"
   },
   {
    "duration": 15,
    "start_time": "2025-01-30T18:40:00.008Z"
   },
   {
    "duration": 14,
    "start_time": "2025-01-30T18:40:05.889Z"
   },
   {
    "duration": 9,
    "start_time": "2025-01-30T18:40:13.536Z"
   },
   {
    "duration": 13,
    "start_time": "2025-01-30T18:40:30.490Z"
   },
   {
    "duration": 9,
    "start_time": "2025-01-30T18:40:36.641Z"
   },
   {
    "duration": 7,
    "start_time": "2025-01-30T18:40:42.607Z"
   },
   {
    "duration": 4,
    "start_time": "2025-01-30T18:41:23.941Z"
   },
   {
    "duration": 8,
    "start_time": "2025-01-30T18:41:39.754Z"
   },
   {
    "duration": 6,
    "start_time": "2025-01-30T18:41:53.341Z"
   },
   {
    "duration": 10,
    "start_time": "2025-01-30T18:42:01.963Z"
   },
   {
    "duration": 14,
    "start_time": "2025-01-30T18:42:10.605Z"
   },
   {
    "duration": 6,
    "start_time": "2025-01-30T18:42:31.383Z"
   },
   {
    "duration": 5,
    "start_time": "2025-01-30T18:42:40.996Z"
   },
   {
    "duration": 7,
    "start_time": "2025-01-30T18:42:47.066Z"
   },
   {
    "duration": 819,
    "start_time": "2025-01-30T18:42:54.529Z"
   },
   {
    "duration": 155,
    "start_time": "2025-01-30T21:34:59.530Z"
   },
   {
    "duration": 2583,
    "start_time": "2025-01-30T21:35:07.736Z"
   },
   {
    "duration": 2,
    "start_time": "2025-01-30T21:35:10.321Z"
   },
   {
    "duration": 72,
    "start_time": "2025-01-30T21:35:10.325Z"
   },
   {
    "duration": 17,
    "start_time": "2025-01-30T21:35:10.399Z"
   },
   {
    "duration": 11,
    "start_time": "2025-01-30T21:35:10.419Z"
   },
   {
    "duration": 18,
    "start_time": "2025-01-30T21:35:10.432Z"
   },
   {
    "duration": 17,
    "start_time": "2025-01-30T21:35:10.452Z"
   },
   {
    "duration": 16,
    "start_time": "2025-01-30T21:35:10.470Z"
   },
   {
    "duration": 13,
    "start_time": "2025-01-30T21:35:10.487Z"
   },
   {
    "duration": 37,
    "start_time": "2025-01-30T21:35:10.501Z"
   },
   {
    "duration": 10,
    "start_time": "2025-01-30T21:35:10.540Z"
   },
   {
    "duration": 9,
    "start_time": "2025-01-30T21:35:10.552Z"
   },
   {
    "duration": 6,
    "start_time": "2025-01-30T21:35:10.562Z"
   },
   {
    "duration": 3,
    "start_time": "2025-01-30T21:35:10.572Z"
   },
   {
    "duration": 8,
    "start_time": "2025-01-30T21:35:10.577Z"
   },
   {
    "duration": 44,
    "start_time": "2025-01-30T21:35:10.587Z"
   },
   {
    "duration": 10,
    "start_time": "2025-01-30T21:35:10.633Z"
   },
   {
    "duration": 7,
    "start_time": "2025-01-30T21:35:10.645Z"
   },
   {
    "duration": 6,
    "start_time": "2025-01-30T21:35:10.654Z"
   },
   {
    "duration": 5,
    "start_time": "2025-01-30T21:35:10.662Z"
   },
   {
    "duration": 5,
    "start_time": "2025-01-30T21:35:10.669Z"
   },
   {
    "duration": 888,
    "start_time": "2025-01-30T21:35:10.676Z"
   },
   {
    "duration": 6,
    "start_time": "2025-01-30T21:35:11.565Z"
   },
   {
    "duration": 820,
    "start_time": "2025-01-30T21:36:17.199Z"
   },
   {
    "duration": 4,
    "start_time": "2025-01-30T21:36:18.021Z"
   },
   {
    "duration": 44,
    "start_time": "2025-01-30T21:36:18.026Z"
   },
   {
    "duration": 14,
    "start_time": "2025-01-30T21:36:18.072Z"
   },
   {
    "duration": 9,
    "start_time": "2025-01-30T21:36:18.089Z"
   },
   {
    "duration": 38,
    "start_time": "2025-01-30T21:36:18.099Z"
   },
   {
    "duration": 18,
    "start_time": "2025-01-30T21:36:18.139Z"
   },
   {
    "duration": 14,
    "start_time": "2025-01-30T21:36:18.158Z"
   },
   {
    "duration": 12,
    "start_time": "2025-01-30T21:36:18.174Z"
   },
   {
    "duration": 9,
    "start_time": "2025-01-30T21:36:18.188Z"
   },
   {
    "duration": 36,
    "start_time": "2025-01-30T21:36:18.199Z"
   },
   {
    "duration": 10,
    "start_time": "2025-01-30T21:36:18.237Z"
   },
   {
    "duration": 6,
    "start_time": "2025-01-30T21:36:18.248Z"
   },
   {
    "duration": 4,
    "start_time": "2025-01-30T21:36:18.256Z"
   },
   {
    "duration": 9,
    "start_time": "2025-01-30T21:36:18.262Z"
   },
   {
    "duration": 7,
    "start_time": "2025-01-30T21:36:18.274Z"
   },
   {
    "duration": 11,
    "start_time": "2025-01-30T21:36:18.282Z"
   },
   {
    "duration": 44,
    "start_time": "2025-01-30T21:36:18.295Z"
   },
   {
    "duration": 6,
    "start_time": "2025-01-30T21:36:18.341Z"
   },
   {
    "duration": 4,
    "start_time": "2025-01-30T21:36:18.349Z"
   },
   {
    "duration": 6,
    "start_time": "2025-01-30T21:36:18.355Z"
   },
   {
    "duration": 814,
    "start_time": "2025-01-30T21:36:18.362Z"
   },
   {
    "duration": 6,
    "start_time": "2025-01-30T21:36:19.178Z"
   },
   {
    "duration": 5,
    "start_time": "2025-01-30T21:36:33.301Z"
   },
   {
    "duration": 6,
    "start_time": "2025-01-30T21:38:12.383Z"
   },
   {
    "duration": 6,
    "start_time": "2025-01-30T21:38:31.557Z"
   },
   {
    "duration": 9,
    "start_time": "2025-01-30T21:39:14.164Z"
   },
   {
    "duration": 273,
    "start_time": "2025-01-30T21:39:30.738Z"
   },
   {
    "duration": 10,
    "start_time": "2025-01-30T21:39:37.728Z"
   },
   {
    "duration": 4,
    "start_time": "2025-01-30T21:40:52.192Z"
   },
   {
    "duration": 4,
    "start_time": "2025-01-30T21:41:13.038Z"
   },
   {
    "duration": 7,
    "start_time": "2025-01-30T21:41:28.391Z"
   },
   {
    "duration": 3,
    "start_time": "2025-01-30T21:44:03.186Z"
   },
   {
    "duration": 9,
    "start_time": "2025-01-30T21:44:19.747Z"
   },
   {
    "duration": 4,
    "start_time": "2025-01-30T21:48:52.435Z"
   },
   {
    "duration": 3,
    "start_time": "2025-01-30T21:49:25.132Z"
   },
   {
    "duration": 164,
    "start_time": "2025-01-30T21:50:27.315Z"
   },
   {
    "duration": 432,
    "start_time": "2025-01-30T21:50:49.832Z"
   },
   {
    "duration": 389,
    "start_time": "2025-01-30T21:54:43.144Z"
   },
   {
    "duration": 17,
    "start_time": "2025-01-30T22:38:06.881Z"
   },
   {
    "duration": 2,
    "start_time": "2025-01-30T22:38:26.912Z"
   },
   {
    "duration": 800,
    "start_time": "2025-01-30T22:38:35.325Z"
   },
   {
    "duration": 3,
    "start_time": "2025-01-30T22:38:36.128Z"
   },
   {
    "duration": 42,
    "start_time": "2025-01-30T22:38:36.132Z"
   },
   {
    "duration": 14,
    "start_time": "2025-01-30T22:38:36.176Z"
   },
   {
    "duration": 8,
    "start_time": "2025-01-30T22:38:36.193Z"
   },
   {
    "duration": 35,
    "start_time": "2025-01-30T22:38:36.203Z"
   },
   {
    "duration": 15,
    "start_time": "2025-01-30T22:38:36.240Z"
   },
   {
    "duration": 14,
    "start_time": "2025-01-30T22:38:36.256Z"
   },
   {
    "duration": 13,
    "start_time": "2025-01-30T22:38:36.272Z"
   },
   {
    "duration": 8,
    "start_time": "2025-01-30T22:38:36.286Z"
   },
   {
    "duration": 41,
    "start_time": "2025-01-30T22:38:36.295Z"
   },
   {
    "duration": 9,
    "start_time": "2025-01-30T22:38:36.337Z"
   },
   {
    "duration": 6,
    "start_time": "2025-01-30T22:38:36.348Z"
   },
   {
    "duration": 3,
    "start_time": "2025-01-30T22:38:36.358Z"
   },
   {
    "duration": 8,
    "start_time": "2025-01-30T22:38:36.363Z"
   },
   {
    "duration": 7,
    "start_time": "2025-01-30T22:38:36.373Z"
   },
   {
    "duration": 10,
    "start_time": "2025-01-30T22:38:36.382Z"
   },
   {
    "duration": 42,
    "start_time": "2025-01-30T22:38:36.394Z"
   },
   {
    "duration": 5,
    "start_time": "2025-01-30T22:38:36.438Z"
   },
   {
    "duration": 6,
    "start_time": "2025-01-30T22:38:36.445Z"
   },
   {
    "duration": 6,
    "start_time": "2025-01-30T22:38:36.452Z"
   },
   {
    "duration": 833,
    "start_time": "2025-01-30T22:38:36.459Z"
   },
   {
    "duration": 7,
    "start_time": "2025-01-30T22:38:37.293Z"
   },
   {
    "duration": 6,
    "start_time": "2025-01-30T22:38:37.301Z"
   },
   {
    "duration": 11,
    "start_time": "2025-01-30T22:38:37.308Z"
   },
   {
    "duration": 12,
    "start_time": "2025-01-30T22:38:37.321Z"
   },
   {
    "duration": 6,
    "start_time": "2025-01-30T22:38:37.335Z"
   },
   {
    "duration": 7,
    "start_time": "2025-01-30T22:38:37.344Z"
   },
   {
    "duration": 60,
    "start_time": "2025-01-30T22:38:37.352Z"
   },
   {
    "duration": 17,
    "start_time": "2025-01-30T22:38:37.414Z"
   },
   {
    "duration": 393,
    "start_time": "2025-01-30T22:38:37.433Z"
   },
   {
    "duration": 6,
    "start_time": "2025-01-30T22:38:37.831Z"
   },
   {
    "duration": 4,
    "start_time": "2025-01-30T22:51:12.118Z"
   },
   {
    "duration": 29,
    "start_time": "2025-01-30T22:54:02.893Z"
   },
   {
    "duration": 2740,
    "start_time": "2025-02-11T19:21:48.431Z"
   },
   {
    "duration": 3,
    "start_time": "2025-02-11T19:21:51.173Z"
   },
   {
    "duration": 70,
    "start_time": "2025-02-11T19:21:51.178Z"
   },
   {
    "duration": 15,
    "start_time": "2025-02-11T19:21:51.250Z"
   },
   {
    "duration": 9,
    "start_time": "2025-02-11T19:21:51.268Z"
   },
   {
    "duration": 17,
    "start_time": "2025-02-11T19:21:51.278Z"
   },
   {
    "duration": 23,
    "start_time": "2025-02-11T19:21:51.297Z"
   },
   {
    "duration": 15,
    "start_time": "2025-02-11T19:21:51.322Z"
   },
   {
    "duration": 13,
    "start_time": "2025-02-11T19:21:51.339Z"
   },
   {
    "duration": 8,
    "start_time": "2025-02-11T19:21:51.354Z"
   },
   {
    "duration": 41,
    "start_time": "2025-02-11T19:21:51.364Z"
   },
   {
    "duration": 11,
    "start_time": "2025-02-11T19:21:51.407Z"
   },
   {
    "duration": 7,
    "start_time": "2025-02-11T19:21:51.420Z"
   },
   {
    "duration": 4,
    "start_time": "2025-02-11T19:21:51.431Z"
   },
   {
    "duration": 9,
    "start_time": "2025-02-11T19:21:51.437Z"
   },
   {
    "duration": 9,
    "start_time": "2025-02-11T19:21:51.448Z"
   },
   {
    "duration": 49,
    "start_time": "2025-02-11T19:21:51.460Z"
   },
   {
    "duration": 8,
    "start_time": "2025-02-11T19:21:51.511Z"
   },
   {
    "duration": 7,
    "start_time": "2025-02-11T19:21:51.521Z"
   },
   {
    "duration": 6,
    "start_time": "2025-02-11T19:21:51.531Z"
   },
   {
    "duration": 7,
    "start_time": "2025-02-11T19:21:51.539Z"
   },
   {
    "duration": 918,
    "start_time": "2025-02-11T19:21:51.548Z"
   },
   {
    "duration": 899,
    "start_time": "2025-02-11T19:21:52.468Z"
   },
   {
    "duration": 6,
    "start_time": "2025-02-11T19:21:53.370Z"
   },
   {
    "duration": 7,
    "start_time": "2025-02-11T19:21:53.378Z"
   },
   {
    "duration": 26,
    "start_time": "2025-02-11T19:21:53.387Z"
   },
   {
    "duration": 5,
    "start_time": "2025-02-11T19:21:53.415Z"
   },
   {
    "duration": 7,
    "start_time": "2025-02-11T19:21:53.422Z"
   },
   {
    "duration": 9,
    "start_time": "2025-02-11T19:21:53.432Z"
   },
   {
    "duration": 4,
    "start_time": "2025-02-11T19:21:53.443Z"
   },
   {
    "duration": 3,
    "start_time": "2025-02-11T19:21:53.449Z"
   },
   {
    "duration": 500,
    "start_time": "2025-02-11T19:21:53.454Z"
   },
   {
    "duration": 5,
    "start_time": "2025-02-11T19:21:53.957Z"
   },
   {
    "duration": 6,
    "start_time": "2025-02-11T19:21:53.964Z"
   },
   {
    "duration": 53,
    "start_time": "2025-02-11T19:21:53.971Z"
   },
   {
    "duration": 4,
    "start_time": "2025-02-11T19:25:17.258Z"
   },
   {
    "duration": 897,
    "start_time": "2025-02-11T19:32:24.328Z"
   },
   {
    "duration": 4,
    "start_time": "2025-02-11T19:32:25.228Z"
   },
   {
    "duration": 46,
    "start_time": "2025-02-11T19:32:25.234Z"
   },
   {
    "duration": 23,
    "start_time": "2025-02-11T19:32:25.282Z"
   },
   {
    "duration": 10,
    "start_time": "2025-02-11T19:32:25.308Z"
   },
   {
    "duration": 16,
    "start_time": "2025-02-11T19:32:25.320Z"
   },
   {
    "duration": 17,
    "start_time": "2025-02-11T19:32:25.338Z"
   },
   {
    "duration": 14,
    "start_time": "2025-02-11T19:32:25.356Z"
   },
   {
    "duration": 42,
    "start_time": "2025-02-11T19:32:25.372Z"
   },
   {
    "duration": 10,
    "start_time": "2025-02-11T19:32:25.416Z"
   },
   {
    "duration": 11,
    "start_time": "2025-02-11T19:32:25.428Z"
   },
   {
    "duration": 8,
    "start_time": "2025-02-11T19:32:25.441Z"
   },
   {
    "duration": 6,
    "start_time": "2025-02-11T19:32:25.450Z"
   },
   {
    "duration": 4,
    "start_time": "2025-02-11T19:32:25.460Z"
   },
   {
    "duration": 47,
    "start_time": "2025-02-11T19:32:25.465Z"
   },
   {
    "duration": 7,
    "start_time": "2025-02-11T19:32:25.514Z"
   },
   {
    "duration": 11,
    "start_time": "2025-02-11T19:32:25.522Z"
   },
   {
    "duration": 7,
    "start_time": "2025-02-11T19:32:25.536Z"
   },
   {
    "duration": 7,
    "start_time": "2025-02-11T19:32:25.545Z"
   },
   {
    "duration": 6,
    "start_time": "2025-02-11T19:32:25.554Z"
   },
   {
    "duration": 49,
    "start_time": "2025-02-11T19:32:25.561Z"
   },
   {
    "duration": 855,
    "start_time": "2025-02-11T19:32:25.611Z"
   },
   {
    "duration": 915,
    "start_time": "2025-02-11T19:32:26.468Z"
   },
   {
    "duration": 6,
    "start_time": "2025-02-11T19:32:27.385Z"
   },
   {
    "duration": 7,
    "start_time": "2025-02-11T19:32:27.404Z"
   },
   {
    "duration": 9,
    "start_time": "2025-02-11T19:32:27.415Z"
   },
   {
    "duration": 11,
    "start_time": "2025-02-11T19:32:27.426Z"
   },
   {
    "duration": 6,
    "start_time": "2025-02-11T19:32:27.440Z"
   },
   {
    "duration": 9,
    "start_time": "2025-02-11T19:32:27.449Z"
   },
   {
    "duration": 44,
    "start_time": "2025-02-11T19:32:27.461Z"
   },
   {
    "duration": 4,
    "start_time": "2025-02-11T19:32:27.508Z"
   },
   {
    "duration": 4,
    "start_time": "2025-02-11T19:32:27.514Z"
   },
   {
    "duration": 393,
    "start_time": "2025-02-11T19:32:27.519Z"
   },
   {
    "duration": 6,
    "start_time": "2025-02-11T19:32:27.914Z"
   },
   {
    "duration": 5,
    "start_time": "2025-02-11T19:32:27.922Z"
   },
   {
    "duration": 30,
    "start_time": "2025-02-11T19:32:27.929Z"
   },
   {
    "duration": 162,
    "start_time": "2025-02-11T20:43:06.227Z"
   },
   {
    "duration": 18,
    "start_time": "2025-02-11T20:43:15.758Z"
   },
   {
    "duration": 2585,
    "start_time": "2025-02-11T20:43:35.061Z"
   },
   {
    "duration": 3,
    "start_time": "2025-02-11T20:43:37.648Z"
   },
   {
    "duration": 121,
    "start_time": "2025-02-11T20:43:37.653Z"
   },
   {
    "duration": 14,
    "start_time": "2025-02-11T20:43:37.776Z"
   },
   {
    "duration": 8,
    "start_time": "2025-02-11T20:43:37.792Z"
   },
   {
    "duration": 17,
    "start_time": "2025-02-11T20:43:37.802Z"
   },
   {
    "duration": 15,
    "start_time": "2025-02-11T20:43:37.821Z"
   },
   {
    "duration": 13,
    "start_time": "2025-02-11T20:43:37.838Z"
   },
   {
    "duration": 12,
    "start_time": "2025-02-11T20:43:37.852Z"
   },
   {
    "duration": 8,
    "start_time": "2025-02-11T20:43:37.868Z"
   },
   {
    "duration": 39,
    "start_time": "2025-02-11T20:43:37.878Z"
   },
   {
    "duration": 9,
    "start_time": "2025-02-11T20:43:37.918Z"
   },
   {
    "duration": 5,
    "start_time": "2025-02-11T20:43:37.930Z"
   },
   {
    "duration": 3,
    "start_time": "2025-02-11T20:43:37.938Z"
   },
   {
    "duration": 8,
    "start_time": "2025-02-11T20:43:37.943Z"
   },
   {
    "duration": 6,
    "start_time": "2025-02-11T20:43:37.952Z"
   },
   {
    "duration": 10,
    "start_time": "2025-02-11T20:43:37.960Z"
   },
   {
    "duration": 40,
    "start_time": "2025-02-11T20:43:37.972Z"
   },
   {
    "duration": 6,
    "start_time": "2025-02-11T20:43:38.014Z"
   },
   {
    "duration": 5,
    "start_time": "2025-02-11T20:43:38.022Z"
   },
   {
    "duration": 6,
    "start_time": "2025-02-11T20:43:38.029Z"
   },
   {
    "duration": 849,
    "start_time": "2025-02-11T20:43:38.037Z"
   },
   {
    "duration": 870,
    "start_time": "2025-02-11T20:43:38.887Z"
   },
   {
    "duration": 6,
    "start_time": "2025-02-11T20:43:39.760Z"
   },
   {
    "duration": 7,
    "start_time": "2025-02-11T20:43:39.768Z"
   },
   {
    "duration": 31,
    "start_time": "2025-02-11T20:43:39.777Z"
   },
   {
    "duration": 10,
    "start_time": "2025-02-11T20:43:39.811Z"
   },
   {
    "duration": 4,
    "start_time": "2025-02-11T20:43:39.825Z"
   },
   {
    "duration": 8,
    "start_time": "2025-02-11T20:43:39.831Z"
   },
   {
    "duration": 8,
    "start_time": "2025-02-11T20:43:39.840Z"
   },
   {
    "duration": 4,
    "start_time": "2025-02-11T20:43:39.849Z"
   },
   {
    "duration": 3,
    "start_time": "2025-02-11T20:43:39.854Z"
   },
   {
    "duration": 393,
    "start_time": "2025-02-11T20:43:39.859Z"
   },
   {
    "duration": 5,
    "start_time": "2025-02-11T20:43:40.254Z"
   },
   {
    "duration": 6,
    "start_time": "2025-02-11T20:43:40.261Z"
   },
   {
    "duration": 107,
    "start_time": "2025-02-11T20:43:40.268Z"
   },
   {
    "duration": 807,
    "start_time": "2025-02-11T21:25:26.596Z"
   },
   {
    "duration": 4,
    "start_time": "2025-02-11T21:25:27.406Z"
   },
   {
    "duration": 43,
    "start_time": "2025-02-11T21:25:27.412Z"
   },
   {
    "duration": 14,
    "start_time": "2025-02-11T21:25:27.456Z"
   },
   {
    "duration": 9,
    "start_time": "2025-02-11T21:25:27.472Z"
   },
   {
    "duration": 31,
    "start_time": "2025-02-11T21:25:27.483Z"
   },
   {
    "duration": 17,
    "start_time": "2025-02-11T21:25:27.516Z"
   },
   {
    "duration": 15,
    "start_time": "2025-02-11T21:25:27.535Z"
   },
   {
    "duration": 12,
    "start_time": "2025-02-11T21:25:27.551Z"
   },
   {
    "duration": 9,
    "start_time": "2025-02-11T21:25:27.564Z"
   },
   {
    "duration": 42,
    "start_time": "2025-02-11T21:25:27.576Z"
   },
   {
    "duration": 8,
    "start_time": "2025-02-11T21:25:27.619Z"
   },
   {
    "duration": 6,
    "start_time": "2025-02-11T21:25:27.628Z"
   },
   {
    "duration": 3,
    "start_time": "2025-02-11T21:25:27.638Z"
   },
   {
    "duration": 8,
    "start_time": "2025-02-11T21:25:27.642Z"
   },
   {
    "duration": 6,
    "start_time": "2025-02-11T21:25:27.652Z"
   },
   {
    "duration": 9,
    "start_time": "2025-02-11T21:25:27.659Z"
   },
   {
    "duration": 44,
    "start_time": "2025-02-11T21:25:27.670Z"
   },
   {
    "duration": 5,
    "start_time": "2025-02-11T21:25:27.716Z"
   },
   {
    "duration": 7,
    "start_time": "2025-02-11T21:25:27.722Z"
   },
   {
    "duration": 7,
    "start_time": "2025-02-11T21:25:27.730Z"
   },
   {
    "duration": 842,
    "start_time": "2025-02-11T21:25:27.739Z"
   },
   {
    "duration": 868,
    "start_time": "2025-02-11T21:25:28.583Z"
   },
   {
    "duration": 5,
    "start_time": "2025-02-11T21:25:29.453Z"
   },
   {
    "duration": 7,
    "start_time": "2025-02-11T21:25:29.459Z"
   },
   {
    "duration": 5,
    "start_time": "2025-02-11T21:25:29.467Z"
   },
   {
    "duration": 35,
    "start_time": "2025-02-11T21:25:29.474Z"
   },
   {
    "duration": 4,
    "start_time": "2025-02-11T21:25:29.510Z"
   },
   {
    "duration": 7,
    "start_time": "2025-02-11T21:25:29.516Z"
   },
   {
    "duration": 8,
    "start_time": "2025-02-11T21:25:29.525Z"
   },
   {
    "duration": 2,
    "start_time": "2025-02-11T21:25:29.534Z"
   },
   {
    "duration": 3,
    "start_time": "2025-02-11T21:25:29.538Z"
   },
   {
    "duration": 386,
    "start_time": "2025-02-11T21:25:29.543Z"
   },
   {
    "duration": 6,
    "start_time": "2025-02-11T21:25:29.931Z"
   },
   {
    "duration": 5,
    "start_time": "2025-02-11T21:25:29.938Z"
   },
   {
    "duration": 28,
    "start_time": "2025-02-11T21:25:29.945Z"
   },
   {
    "duration": 797,
    "start_time": "2025-02-11T22:22:18.396Z"
   },
   {
    "duration": 3,
    "start_time": "2025-02-11T22:22:19.195Z"
   },
   {
    "duration": 46,
    "start_time": "2025-02-11T22:22:19.199Z"
   },
   {
    "duration": 14,
    "start_time": "2025-02-11T22:22:19.247Z"
   },
   {
    "duration": 8,
    "start_time": "2025-02-11T22:22:19.263Z"
   },
   {
    "duration": 35,
    "start_time": "2025-02-11T22:22:19.273Z"
   },
   {
    "duration": 15,
    "start_time": "2025-02-11T22:22:19.309Z"
   },
   {
    "duration": 14,
    "start_time": "2025-02-11T22:22:19.325Z"
   },
   {
    "duration": 11,
    "start_time": "2025-02-11T22:22:19.341Z"
   },
   {
    "duration": 7,
    "start_time": "2025-02-11T22:22:19.354Z"
   },
   {
    "duration": 11,
    "start_time": "2025-02-11T22:22:19.364Z"
   },
   {
    "duration": 37,
    "start_time": "2025-02-11T22:22:19.376Z"
   },
   {
    "duration": 6,
    "start_time": "2025-02-11T22:22:19.414Z"
   },
   {
    "duration": 4,
    "start_time": "2025-02-11T22:22:19.424Z"
   },
   {
    "duration": 8,
    "start_time": "2025-02-11T22:22:19.429Z"
   },
   {
    "duration": 6,
    "start_time": "2025-02-11T22:22:19.439Z"
   },
   {
    "duration": 9,
    "start_time": "2025-02-11T22:22:19.446Z"
   },
   {
    "duration": 5,
    "start_time": "2025-02-11T22:22:19.457Z"
   },
   {
    "duration": 5,
    "start_time": "2025-02-11T22:22:19.464Z"
   },
   {
    "duration": 43,
    "start_time": "2025-02-11T22:22:19.470Z"
   },
   {
    "duration": 5,
    "start_time": "2025-02-11T22:22:19.514Z"
   },
   {
    "duration": 809,
    "start_time": "2025-02-11T22:22:19.520Z"
   },
   {
    "duration": 902,
    "start_time": "2025-02-11T22:22:20.331Z"
   },
   {
    "duration": 5,
    "start_time": "2025-02-11T22:22:21.235Z"
   },
   {
    "duration": 8,
    "start_time": "2025-02-11T22:22:21.241Z"
   },
   {
    "duration": 5,
    "start_time": "2025-02-11T22:22:21.250Z"
   },
   {
    "duration": 7,
    "start_time": "2025-02-11T22:22:21.256Z"
   },
   {
    "duration": 9,
    "start_time": "2025-02-11T22:22:21.264Z"
   },
   {
    "duration": 36,
    "start_time": "2025-02-11T22:22:21.275Z"
   },
   {
    "duration": 8,
    "start_time": "2025-02-11T22:22:21.312Z"
   },
   {
    "duration": 7,
    "start_time": "2025-02-11T22:22:21.321Z"
   },
   {
    "duration": 3,
    "start_time": "2025-02-11T22:22:21.330Z"
   },
   {
    "duration": 2,
    "start_time": "2025-02-11T22:22:21.335Z"
   },
   {
    "duration": 382,
    "start_time": "2025-02-11T22:22:21.339Z"
   },
   {
    "duration": 5,
    "start_time": "2025-02-11T22:22:21.723Z"
   },
   {
    "duration": 5,
    "start_time": "2025-02-11T22:22:21.729Z"
   },
   {
    "duration": 27,
    "start_time": "2025-02-11T22:22:21.736Z"
   },
   {
    "duration": 5,
    "start_time": "2025-02-11T22:42:48.932Z"
   },
   {
    "duration": 8,
    "start_time": "2025-02-11T22:42:51.913Z"
   },
   {
    "duration": 7,
    "start_time": "2025-02-11T22:43:24.375Z"
   },
   {
    "duration": 7,
    "start_time": "2025-02-11T22:43:32.556Z"
   },
   {
    "duration": 8,
    "start_time": "2025-02-11T22:43:46.289Z"
   },
   {
    "duration": 5,
    "start_time": "2025-02-11T22:58:55.244Z"
   },
   {
    "duration": 809,
    "start_time": "2025-02-11T23:00:41.769Z"
   },
   {
    "duration": 3,
    "start_time": "2025-02-11T23:00:42.581Z"
   },
   {
    "duration": 50,
    "start_time": "2025-02-11T23:00:42.585Z"
   },
   {
    "duration": 14,
    "start_time": "2025-02-11T23:00:42.636Z"
   },
   {
    "duration": 9,
    "start_time": "2025-02-11T23:00:42.652Z"
   },
   {
    "duration": 15,
    "start_time": "2025-02-11T23:00:42.662Z"
   },
   {
    "duration": 35,
    "start_time": "2025-02-11T23:00:42.679Z"
   },
   {
    "duration": 14,
    "start_time": "2025-02-11T23:00:42.716Z"
   },
   {
    "duration": 13,
    "start_time": "2025-02-11T23:00:42.731Z"
   },
   {
    "duration": 8,
    "start_time": "2025-02-11T23:00:42.745Z"
   },
   {
    "duration": 10,
    "start_time": "2025-02-11T23:00:42.756Z"
   },
   {
    "duration": 41,
    "start_time": "2025-02-11T23:00:42.768Z"
   },
   {
    "duration": 6,
    "start_time": "2025-02-11T23:00:42.810Z"
   },
   {
    "duration": 3,
    "start_time": "2025-02-11T23:00:42.820Z"
   },
   {
    "duration": 7,
    "start_time": "2025-02-11T23:00:42.825Z"
   },
   {
    "duration": 6,
    "start_time": "2025-02-11T23:00:42.833Z"
   },
   {
    "duration": 8,
    "start_time": "2025-02-11T23:00:42.841Z"
   },
   {
    "duration": 6,
    "start_time": "2025-02-11T23:00:42.850Z"
   },
   {
    "duration": 5,
    "start_time": "2025-02-11T23:00:42.857Z"
   },
   {
    "duration": 5,
    "start_time": "2025-02-11T23:00:42.863Z"
   },
   {
    "duration": 6,
    "start_time": "2025-02-11T23:00:42.908Z"
   },
   {
    "duration": 815,
    "start_time": "2025-02-11T23:00:42.915Z"
   },
   {
    "duration": 906,
    "start_time": "2025-02-11T23:00:43.731Z"
   },
   {
    "duration": 5,
    "start_time": "2025-02-11T23:00:44.639Z"
   },
   {
    "duration": 5,
    "start_time": "2025-02-11T23:00:44.646Z"
   },
   {
    "duration": 8,
    "start_time": "2025-02-11T23:00:44.653Z"
   },
   {
    "duration": 5,
    "start_time": "2025-02-11T23:00:44.663Z"
   },
   {
    "duration": 41,
    "start_time": "2025-02-11T23:00:44.670Z"
   },
   {
    "duration": 4,
    "start_time": "2025-02-11T23:00:44.713Z"
   },
   {
    "duration": 6,
    "start_time": "2025-02-11T23:00:44.719Z"
   },
   {
    "duration": 4,
    "start_time": "2025-02-11T23:00:44.727Z"
   },
   {
    "duration": 4,
    "start_time": "2025-02-11T23:00:44.732Z"
   },
   {
    "duration": 5,
    "start_time": "2025-02-11T23:00:44.738Z"
   },
   {
    "duration": 4,
    "start_time": "2025-02-11T23:00:44.745Z"
   },
   {
    "duration": 272,
    "start_time": "2025-02-11T23:00:44.751Z"
   },
   {
    "duration": 0,
    "start_time": "2025-02-11T23:00:45.025Z"
   },
   {
    "duration": 0,
    "start_time": "2025-02-11T23:00:45.026Z"
   },
   {
    "duration": 0,
    "start_time": "2025-02-11T23:00:45.027Z"
   },
   {
    "duration": 0,
    "start_time": "2025-02-11T23:00:45.029Z"
   },
   {
    "duration": 0,
    "start_time": "2025-02-11T23:00:45.030Z"
   },
   {
    "duration": 0,
    "start_time": "2025-02-11T23:00:45.031Z"
   },
   {
    "duration": 0,
    "start_time": "2025-02-11T23:00:45.032Z"
   },
   {
    "duration": 855,
    "start_time": "2025-02-11T23:04:17.144Z"
   },
   {
    "duration": 3,
    "start_time": "2025-02-11T23:04:18.001Z"
   },
   {
    "duration": 40,
    "start_time": "2025-02-11T23:04:18.009Z"
   },
   {
    "duration": 13,
    "start_time": "2025-02-11T23:04:18.051Z"
   },
   {
    "duration": 8,
    "start_time": "2025-02-11T23:04:18.066Z"
   },
   {
    "duration": 35,
    "start_time": "2025-02-11T23:04:18.076Z"
   },
   {
    "duration": 15,
    "start_time": "2025-02-11T23:04:18.113Z"
   },
   {
    "duration": 13,
    "start_time": "2025-02-11T23:04:18.129Z"
   },
   {
    "duration": 11,
    "start_time": "2025-02-11T23:04:18.144Z"
   },
   {
    "duration": 7,
    "start_time": "2025-02-11T23:04:18.158Z"
   },
   {
    "duration": 11,
    "start_time": "2025-02-11T23:04:18.167Z"
   },
   {
    "duration": 8,
    "start_time": "2025-02-11T23:04:18.208Z"
   },
   {
    "duration": 6,
    "start_time": "2025-02-11T23:04:18.217Z"
   },
   {
    "duration": 3,
    "start_time": "2025-02-11T23:04:18.224Z"
   },
   {
    "duration": 8,
    "start_time": "2025-02-11T23:04:18.229Z"
   },
   {
    "duration": 6,
    "start_time": "2025-02-11T23:04:18.238Z"
   },
   {
    "duration": 10,
    "start_time": "2025-02-11T23:04:18.245Z"
   },
   {
    "duration": 6,
    "start_time": "2025-02-11T23:04:18.256Z"
   },
   {
    "duration": 6,
    "start_time": "2025-02-11T23:04:18.263Z"
   },
   {
    "duration": 5,
    "start_time": "2025-02-11T23:04:18.310Z"
   },
   {
    "duration": 4,
    "start_time": "2025-02-11T23:04:18.317Z"
   },
   {
    "duration": 802,
    "start_time": "2025-02-11T23:04:18.323Z"
   },
   {
    "duration": 858,
    "start_time": "2025-02-11T23:04:19.127Z"
   },
   {
    "duration": 5,
    "start_time": "2025-02-11T23:04:19.987Z"
   },
   {
    "duration": 17,
    "start_time": "2025-02-11T23:04:19.993Z"
   },
   {
    "duration": 7,
    "start_time": "2025-02-11T23:04:20.011Z"
   },
   {
    "duration": 6,
    "start_time": "2025-02-11T23:04:20.019Z"
   },
   {
    "duration": 8,
    "start_time": "2025-02-11T23:04:20.028Z"
   },
   {
    "duration": 4,
    "start_time": "2025-02-11T23:04:20.038Z"
   },
   {
    "duration": 7,
    "start_time": "2025-02-11T23:04:20.043Z"
   },
   {
    "duration": 3,
    "start_time": "2025-02-11T23:04:20.052Z"
   },
   {
    "duration": 4,
    "start_time": "2025-02-11T23:04:20.057Z"
   },
   {
    "duration": 5,
    "start_time": "2025-02-11T23:04:20.062Z"
   },
   {
    "duration": 44,
    "start_time": "2025-02-11T23:04:20.068Z"
   },
   {
    "duration": 2,
    "start_time": "2025-02-11T23:04:20.114Z"
   },
   {
    "duration": 3,
    "start_time": "2025-02-11T23:04:20.118Z"
   },
   {
    "duration": 4,
    "start_time": "2025-02-11T23:04:20.122Z"
   },
   {
    "duration": 374,
    "start_time": "2025-02-11T23:04:20.127Z"
   },
   {
    "duration": 5,
    "start_time": "2025-02-11T23:04:20.508Z"
   },
   {
    "duration": 5,
    "start_time": "2025-02-11T23:04:20.515Z"
   },
   {
    "duration": 27,
    "start_time": "2025-02-11T23:04:20.521Z"
   },
   {
    "duration": 803,
    "start_time": "2025-02-11T23:09:05.146Z"
   },
   {
    "duration": 3,
    "start_time": "2025-02-11T23:09:05.951Z"
   },
   {
    "duration": 39,
    "start_time": "2025-02-11T23:09:05.956Z"
   },
   {
    "duration": 22,
    "start_time": "2025-02-11T23:09:05.998Z"
   },
   {
    "duration": 9,
    "start_time": "2025-02-11T23:09:06.021Z"
   },
   {
    "duration": 15,
    "start_time": "2025-02-11T23:09:06.032Z"
   },
   {
    "duration": 15,
    "start_time": "2025-02-11T23:09:06.048Z"
   },
   {
    "duration": 14,
    "start_time": "2025-02-11T23:09:06.064Z"
   },
   {
    "duration": 40,
    "start_time": "2025-02-11T23:09:06.079Z"
   },
   {
    "duration": 8,
    "start_time": "2025-02-11T23:09:06.122Z"
   },
   {
    "duration": 12,
    "start_time": "2025-02-11T23:09:06.131Z"
   },
   {
    "duration": 7,
    "start_time": "2025-02-11T23:09:06.146Z"
   },
   {
    "duration": 5,
    "start_time": "2025-02-11T23:09:06.155Z"
   },
   {
    "duration": 3,
    "start_time": "2025-02-11T23:09:06.162Z"
   },
   {
    "duration": 42,
    "start_time": "2025-02-11T23:09:06.167Z"
   },
   {
    "duration": 5,
    "start_time": "2025-02-11T23:09:06.211Z"
   },
   {
    "duration": 9,
    "start_time": "2025-02-11T23:09:06.217Z"
   },
   {
    "duration": 5,
    "start_time": "2025-02-11T23:09:06.228Z"
   },
   {
    "duration": 5,
    "start_time": "2025-02-11T23:09:06.235Z"
   },
   {
    "duration": 4,
    "start_time": "2025-02-11T23:09:06.242Z"
   },
   {
    "duration": 6,
    "start_time": "2025-02-11T23:09:06.247Z"
   },
   {
    "duration": 854,
    "start_time": "2025-02-11T23:09:06.255Z"
   },
   {
    "duration": 882,
    "start_time": "2025-02-11T23:09:07.112Z"
   },
   {
    "duration": 4,
    "start_time": "2025-02-11T23:09:07.997Z"
   },
   {
    "duration": 5,
    "start_time": "2025-02-11T23:09:08.010Z"
   },
   {
    "duration": 8,
    "start_time": "2025-02-11T23:09:08.017Z"
   },
   {
    "duration": 6,
    "start_time": "2025-02-11T23:09:08.027Z"
   },
   {
    "duration": 10,
    "start_time": "2025-02-11T23:09:08.037Z"
   },
   {
    "duration": 4,
    "start_time": "2025-02-11T23:09:08.049Z"
   },
   {
    "duration": 8,
    "start_time": "2025-02-11T23:09:08.055Z"
   },
   {
    "duration": 4,
    "start_time": "2025-02-11T23:09:08.065Z"
   },
   {
    "duration": 4,
    "start_time": "2025-02-11T23:09:08.109Z"
   },
   {
    "duration": 5,
    "start_time": "2025-02-11T23:09:08.115Z"
   },
   {
    "duration": 5,
    "start_time": "2025-02-11T23:09:08.121Z"
   },
   {
    "duration": 376,
    "start_time": "2025-02-11T23:09:08.127Z"
   },
   {
    "duration": 6,
    "start_time": "2025-02-11T23:09:08.509Z"
   },
   {
    "duration": 4,
    "start_time": "2025-02-11T23:09:08.517Z"
   },
   {
    "duration": 27,
    "start_time": "2025-02-11T23:09:08.524Z"
   }
  ],
  "kernelspec": {
   "display_name": "Python 3 (ipykernel)",
   "language": "python",
   "name": "python3"
  },
  "language_info": {
   "codemirror_mode": {
    "name": "ipython",
    "version": 3
   },
   "file_extension": ".py",
   "mimetype": "text/x-python",
   "name": "python",
   "nbconvert_exporter": "python",
   "pygments_lexer": "ipython3",
   "version": "3.9.19"
  },
  "toc": {
   "base_numbering": 1,
   "nav_menu": {},
   "number_sections": true,
   "sideBar": true,
   "skip_h1_title": true,
   "title_cell": "Table of Contents",
   "title_sidebar": "Contents",
   "toc_cell": false,
   "toc_position": {
    "height": "calc(100% - 180px)",
    "left": "10px",
    "top": "150px",
    "width": "273.4px"
   },
   "toc_section_display": true,
   "toc_window_display": true
  }
 },
 "nbformat": 4,
 "nbformat_minor": 2
}
